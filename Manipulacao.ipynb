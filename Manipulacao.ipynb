{
 "cells": [
  {
   "cell_type": "markdown",
   "metadata": {},
   "source": [
    "# Extração de dados do Sidra com Python."
   ]
  },
  {
   "cell_type": "markdown",
   "metadata": {},
   "source": [
    "---"
   ]
  },
  {
   "cell_type": "code",
   "execution_count": 18,
   "metadata": {},
   "outputs": [
    {
     "name": "stdout",
     "output_type": "stream",
     "text": [
      "Author: Lucas Falcão\n",
      "\n",
      "pandas   : 2.2.3\n",
      "watermark: 2.5.0\n",
      "sidrapy  : 0.1.4\n",
      "\n"
     ]
    }
   ],
   "source": [
    "import watermark\n",
    "%reload_ext watermark\n",
    "%watermark -a \"Lucas Falcão\" --iversions"
   ]
  },
  {
   "cell_type": "markdown",
   "metadata": {},
   "source": [
    "### 1 - Importação das bibliotecas."
   ]
  },
  {
   "cell_type": "code",
   "execution_count": 19,
   "metadata": {},
   "outputs": [],
   "source": [
    "import pandas as pd\n",
    "import sidrapy"
   ]
  },
  {
   "cell_type": "markdown",
   "metadata": {},
   "source": [
    "### 2 - Extração a base de dados."
   ]
  },
  {
   "cell_type": "code",
   "execution_count": 20,
   "metadata": {},
   "outputs": [],
   "source": [
    "base = sidrapy.get_table(table_code=\"1086\",\n",
    "                         territorial_level=\"3\",\n",
    "                         ibge_territorial_code=\"all\",\n",
    "                         variable=\"283\",\n",
    "                         period=\"all\")"
   ]
  },
  {
   "cell_type": "markdown",
   "metadata": {},
   "source": [
    "### 3 - Manipulação da base bruta."
   ]
  },
  {
   "cell_type": "markdown",
   "metadata": {},
   "source": [
    "Visualização inicial da BASE."
   ]
  },
  {
   "cell_type": "code",
   "execution_count": 21,
   "metadata": {},
   "outputs": [
    {
     "data": {
      "text/html": [
       "<div>\n",
       "<style scoped>\n",
       "    .dataframe tbody tr th:only-of-type {\n",
       "        vertical-align: middle;\n",
       "    }\n",
       "\n",
       "    .dataframe tbody tr th {\n",
       "        vertical-align: top;\n",
       "    }\n",
       "\n",
       "    .dataframe thead th {\n",
       "        text-align: right;\n",
       "    }\n",
       "</style>\n",
       "<table border=\"1\" class=\"dataframe\">\n",
       "  <thead>\n",
       "    <tr style=\"text-align: right;\">\n",
       "      <th></th>\n",
       "      <th>NC</th>\n",
       "      <th>NN</th>\n",
       "      <th>MC</th>\n",
       "      <th>MN</th>\n",
       "      <th>V</th>\n",
       "      <th>D1C</th>\n",
       "      <th>D1N</th>\n",
       "      <th>D2C</th>\n",
       "      <th>D2N</th>\n",
       "      <th>D3C</th>\n",
       "      <th>D3N</th>\n",
       "      <th>D4C</th>\n",
       "      <th>D4N</th>\n",
       "      <th>D5C</th>\n",
       "      <th>D5N</th>\n",
       "    </tr>\n",
       "  </thead>\n",
       "  <tbody>\n",
       "    <tr>\n",
       "      <th>0</th>\n",
       "      <td>Nível Territorial (Código)</td>\n",
       "      <td>Nível Territorial</td>\n",
       "      <td>Unidade de Medida (Código)</td>\n",
       "      <td>Unidade de Medida</td>\n",
       "      <td>Valor</td>\n",
       "      <td>Unidade da Federação (Código)</td>\n",
       "      <td>Unidade da Federação</td>\n",
       "      <td>Trimestre (Código)</td>\n",
       "      <td>Trimestre</td>\n",
       "      <td>Variável (Código)</td>\n",
       "      <td>Variável</td>\n",
       "      <td>Tipo de inspeção (Código)</td>\n",
       "      <td>Tipo de inspeção</td>\n",
       "      <td>Referência temporal (Código)</td>\n",
       "      <td>Referência temporal</td>\n",
       "    </tr>\n",
       "    <tr>\n",
       "      <th>1</th>\n",
       "      <td>3</td>\n",
       "      <td>Unidade da Federação</td>\n",
       "      <td>25</td>\n",
       "      <td>Mil litros</td>\n",
       "      <td>54392</td>\n",
       "      <td>11</td>\n",
       "      <td>Rondônia</td>\n",
       "      <td>199701</td>\n",
       "      <td>1º trimestre 1997</td>\n",
       "      <td>283</td>\n",
       "      <td>Quantidade de leite cru, resfriado ou não, ind...</td>\n",
       "      <td>118225</td>\n",
       "      <td>Total</td>\n",
       "      <td>115236</td>\n",
       "      <td>Total do trimestre</td>\n",
       "    </tr>\n",
       "    <tr>\n",
       "      <th>2</th>\n",
       "      <td>3</td>\n",
       "      <td>Unidade da Federação</td>\n",
       "      <td>25</td>\n",
       "      <td>Mil litros</td>\n",
       "      <td>54822</td>\n",
       "      <td>11</td>\n",
       "      <td>Rondônia</td>\n",
       "      <td>199702</td>\n",
       "      <td>2º trimestre 1997</td>\n",
       "      <td>283</td>\n",
       "      <td>Quantidade de leite cru, resfriado ou não, ind...</td>\n",
       "      <td>118225</td>\n",
       "      <td>Total</td>\n",
       "      <td>115236</td>\n",
       "      <td>Total do trimestre</td>\n",
       "    </tr>\n",
       "    <tr>\n",
       "      <th>3</th>\n",
       "      <td>3</td>\n",
       "      <td>Unidade da Federação</td>\n",
       "      <td>25</td>\n",
       "      <td>Mil litros</td>\n",
       "      <td>68027</td>\n",
       "      <td>11</td>\n",
       "      <td>Rondônia</td>\n",
       "      <td>199703</td>\n",
       "      <td>3º trimestre 1997</td>\n",
       "      <td>283</td>\n",
       "      <td>Quantidade de leite cru, resfriado ou não, ind...</td>\n",
       "      <td>118225</td>\n",
       "      <td>Total</td>\n",
       "      <td>115236</td>\n",
       "      <td>Total do trimestre</td>\n",
       "    </tr>\n",
       "    <tr>\n",
       "      <th>4</th>\n",
       "      <td>3</td>\n",
       "      <td>Unidade da Federação</td>\n",
       "      <td>25</td>\n",
       "      <td>Mil litros</td>\n",
       "      <td>84671</td>\n",
       "      <td>11</td>\n",
       "      <td>Rondônia</td>\n",
       "      <td>199704</td>\n",
       "      <td>4º trimestre 1997</td>\n",
       "      <td>283</td>\n",
       "      <td>Quantidade de leite cru, resfriado ou não, ind...</td>\n",
       "      <td>118225</td>\n",
       "      <td>Total</td>\n",
       "      <td>115236</td>\n",
       "      <td>Total do trimestre</td>\n",
       "    </tr>\n",
       "  </tbody>\n",
       "</table>\n",
       "</div>"
      ],
      "text/plain": [
       "                           NC                    NN  \\\n",
       "0  Nível Territorial (Código)     Nível Territorial   \n",
       "1                           3  Unidade da Federação   \n",
       "2                           3  Unidade da Federação   \n",
       "3                           3  Unidade da Federação   \n",
       "4                           3  Unidade da Federação   \n",
       "\n",
       "                           MC                 MN      V  \\\n",
       "0  Unidade de Medida (Código)  Unidade de Medida  Valor   \n",
       "1                          25         Mil litros  54392   \n",
       "2                          25         Mil litros  54822   \n",
       "3                          25         Mil litros  68027   \n",
       "4                          25         Mil litros  84671   \n",
       "\n",
       "                             D1C                   D1N                 D2C  \\\n",
       "0  Unidade da Federação (Código)  Unidade da Federação  Trimestre (Código)   \n",
       "1                             11              Rondônia              199701   \n",
       "2                             11              Rondônia              199702   \n",
       "3                             11              Rondônia              199703   \n",
       "4                             11              Rondônia              199704   \n",
       "\n",
       "                 D2N                D3C  \\\n",
       "0          Trimestre  Variável (Código)   \n",
       "1  1º trimestre 1997                283   \n",
       "2  2º trimestre 1997                283   \n",
       "3  3º trimestre 1997                283   \n",
       "4  4º trimestre 1997                283   \n",
       "\n",
       "                                                 D3N  \\\n",
       "0                                           Variável   \n",
       "1  Quantidade de leite cru, resfriado ou não, ind...   \n",
       "2  Quantidade de leite cru, resfriado ou não, ind...   \n",
       "3  Quantidade de leite cru, resfriado ou não, ind...   \n",
       "4  Quantidade de leite cru, resfriado ou não, ind...   \n",
       "\n",
       "                         D4C               D4N                           D5C  \\\n",
       "0  Tipo de inspeção (Código)  Tipo de inspeção  Referência temporal (Código)   \n",
       "1                     118225             Total                        115236   \n",
       "2                     118225             Total                        115236   \n",
       "3                     118225             Total                        115236   \n",
       "4                     118225             Total                        115236   \n",
       "\n",
       "                   D5N  \n",
       "0  Referência temporal  \n",
       "1   Total do trimestre  \n",
       "2   Total do trimestre  \n",
       "3   Total do trimestre  \n",
       "4   Total do trimestre  "
      ]
     },
     "execution_count": 21,
     "metadata": {},
     "output_type": "execute_result"
    }
   ],
   "source": [
    "base.head()"
   ]
  },
  {
   "cell_type": "markdown",
   "metadata": {},
   "source": [
    "Definição do cabeçalho como colula."
   ]
  },
  {
   "cell_type": "code",
   "execution_count": 22,
   "metadata": {},
   "outputs": [],
   "source": [
    "base.columns = base.iloc[0]"
   ]
  },
  {
   "cell_type": "markdown",
   "metadata": {},
   "source": [
    "Fatiando a base e selecionando as colunas necessárias."
   ]
  },
  {
   "cell_type": "code",
   "execution_count": 23,
   "metadata": {},
   "outputs": [],
   "source": [
    "df = base.iloc[1:,[7,6,4]].copy()"
   ]
  },
  {
   "cell_type": "markdown",
   "metadata": {},
   "source": [
    "Visualização"
   ]
  },
  {
   "cell_type": "code",
   "execution_count": 24,
   "metadata": {},
   "outputs": [
    {
     "data": {
      "text/html": [
       "<div>\n",
       "<style scoped>\n",
       "    .dataframe tbody tr th:only-of-type {\n",
       "        vertical-align: middle;\n",
       "    }\n",
       "\n",
       "    .dataframe tbody tr th {\n",
       "        vertical-align: top;\n",
       "    }\n",
       "\n",
       "    .dataframe thead th {\n",
       "        text-align: right;\n",
       "    }\n",
       "</style>\n",
       "<table border=\"1\" class=\"dataframe\">\n",
       "  <thead>\n",
       "    <tr style=\"text-align: right;\">\n",
       "      <th></th>\n",
       "      <th>Trimestre (Código)</th>\n",
       "      <th>Unidade da Federação</th>\n",
       "      <th>Valor</th>\n",
       "    </tr>\n",
       "  </thead>\n",
       "  <tbody>\n",
       "    <tr>\n",
       "      <th>1</th>\n",
       "      <td>199701</td>\n",
       "      <td>Rondônia</td>\n",
       "      <td>54392</td>\n",
       "    </tr>\n",
       "    <tr>\n",
       "      <th>2</th>\n",
       "      <td>199702</td>\n",
       "      <td>Rondônia</td>\n",
       "      <td>54822</td>\n",
       "    </tr>\n",
       "    <tr>\n",
       "      <th>3</th>\n",
       "      <td>199703</td>\n",
       "      <td>Rondônia</td>\n",
       "      <td>68027</td>\n",
       "    </tr>\n",
       "    <tr>\n",
       "      <th>4</th>\n",
       "      <td>199704</td>\n",
       "      <td>Rondônia</td>\n",
       "      <td>84671</td>\n",
       "    </tr>\n",
       "    <tr>\n",
       "      <th>5</th>\n",
       "      <td>199801</td>\n",
       "      <td>Rondônia</td>\n",
       "      <td>67600</td>\n",
       "    </tr>\n",
       "  </tbody>\n",
       "</table>\n",
       "</div>"
      ],
      "text/plain": [
       "0 Trimestre (Código) Unidade da Federação  Valor\n",
       "1             199701             Rondônia  54392\n",
       "2             199702             Rondônia  54822\n",
       "3             199703             Rondônia  68027\n",
       "4             199704             Rondônia  84671\n",
       "5             199801             Rondônia  67600"
      ]
     },
     "execution_count": 24,
     "metadata": {},
     "output_type": "execute_result"
    }
   ],
   "source": [
    "df.head()"
   ]
  },
  {
   "cell_type": "markdown",
   "metadata": {},
   "source": [
    "Criação da coluna 'DATA', a partir da coluna 'Trimestre (Código)'"
   ]
  },
  {
   "cell_type": "code",
   "execution_count": 25,
   "metadata": {},
   "outputs": [],
   "source": [
    "df['DATA'] = pd.to_datetime(df['Trimestre (Código)'].str.slice(0,4) + '-' + df['Trimestre (Código)'].str.slice(4,6))"
   ]
  },
  {
   "cell_type": "markdown",
   "metadata": {},
   "source": [
    "Dropando a coluna 'Trimestre (Código)', pois a coluna 'DATA' já foi construída."
   ]
  },
  {
   "cell_type": "code",
   "execution_count": 26,
   "metadata": {},
   "outputs": [],
   "source": [
    "df = df.drop(columns='Trimestre (Código)')"
   ]
  },
  {
   "cell_type": "markdown",
   "metadata": {},
   "source": [
    "Renomeação das colunas, e alteração das posições."
   ]
  },
  {
   "cell_type": "code",
   "execution_count": 27,
   "metadata": {},
   "outputs": [],
   "source": [
    "df = df.rename(columns={'Unidade da Federação':'UF', 'Valor':'VALOR'})[['DATA','UF','VALOR']]"
   ]
  },
  {
   "cell_type": "markdown",
   "metadata": {},
   "source": [
    "Transformando a coluna de 'VALOR' em inteiro."
   ]
  },
  {
   "cell_type": "code",
   "execution_count": 28,
   "metadata": {},
   "outputs": [],
   "source": [
    "df['VALOR'] = pd.to_numeric(df['VALOR'], errors='coerce').fillna(0).astype(int)"
   ]
  },
  {
   "cell_type": "code",
   "execution_count": 29,
   "metadata": {},
   "outputs": [],
   "source": [
    "df['UF'] = df['UF'].astype('string')"
   ]
  },
  {
   "cell_type": "markdown",
   "metadata": {},
   "source": [
    "### 4 - Conferindo os dtypes e se existe valores nulos/ausentes."
   ]
  },
  {
   "cell_type": "markdown",
   "metadata": {},
   "source": [
    "Verificando se há valores nulos/ausentes nas colunas."
   ]
  },
  {
   "cell_type": "code",
   "execution_count": 30,
   "metadata": {},
   "outputs": [
    {
     "data": {
      "text/plain": [
       "0\n",
       "DATA     0\n",
       "UF       0\n",
       "VALOR    0\n",
       "dtype: int64"
      ]
     },
     "execution_count": 30,
     "metadata": {},
     "output_type": "execute_result"
    }
   ],
   "source": [
    "df.isnull().sum()"
   ]
  },
  {
   "cell_type": "markdown",
   "metadata": {},
   "source": [
    "Conferindo os tipos de dados."
   ]
  },
  {
   "cell_type": "code",
   "execution_count": 31,
   "metadata": {},
   "outputs": [
    {
     "data": {
      "text/plain": [
       "0\n",
       "DATA     datetime64[ns]\n",
       "UF       string[python]\n",
       "VALOR             int64\n",
       "dtype: object"
      ]
     },
     "execution_count": 31,
     "metadata": {},
     "output_type": "execute_result"
    }
   ],
   "source": [
    "df.dtypes"
   ]
  },
  {
   "cell_type": "markdown",
   "metadata": {},
   "source": [
    "Visualização dos dados filtrados e limpos."
   ]
  },
  {
   "cell_type": "code",
   "execution_count": 32,
   "metadata": {},
   "outputs": [
    {
     "data": {
      "text/html": [
       "<div>\n",
       "<style scoped>\n",
       "    .dataframe tbody tr th:only-of-type {\n",
       "        vertical-align: middle;\n",
       "    }\n",
       "\n",
       "    .dataframe tbody tr th {\n",
       "        vertical-align: top;\n",
       "    }\n",
       "\n",
       "    .dataframe thead th {\n",
       "        text-align: right;\n",
       "    }\n",
       "</style>\n",
       "<table border=\"1\" class=\"dataframe\">\n",
       "  <thead>\n",
       "    <tr style=\"text-align: right;\">\n",
       "      <th></th>\n",
       "      <th>DATA</th>\n",
       "      <th>UF</th>\n",
       "      <th>VALOR</th>\n",
       "    </tr>\n",
       "  </thead>\n",
       "  <tbody>\n",
       "    <tr>\n",
       "      <th>1</th>\n",
       "      <td>1997-01-01</td>\n",
       "      <td>Rondônia</td>\n",
       "      <td>54392</td>\n",
       "    </tr>\n",
       "    <tr>\n",
       "      <th>2</th>\n",
       "      <td>1997-02-01</td>\n",
       "      <td>Rondônia</td>\n",
       "      <td>54822</td>\n",
       "    </tr>\n",
       "    <tr>\n",
       "      <th>3</th>\n",
       "      <td>1997-03-01</td>\n",
       "      <td>Rondônia</td>\n",
       "      <td>68027</td>\n",
       "    </tr>\n",
       "    <tr>\n",
       "      <th>4</th>\n",
       "      <td>1997-04-01</td>\n",
       "      <td>Rondônia</td>\n",
       "      <td>84671</td>\n",
       "    </tr>\n",
       "    <tr>\n",
       "      <th>5</th>\n",
       "      <td>1998-01-01</td>\n",
       "      <td>Rondônia</td>\n",
       "      <td>67600</td>\n",
       "    </tr>\n",
       "  </tbody>\n",
       "</table>\n",
       "</div>"
      ],
      "text/plain": [
       "0       DATA        UF  VALOR\n",
       "1 1997-01-01  Rondônia  54392\n",
       "2 1997-02-01  Rondônia  54822\n",
       "3 1997-03-01  Rondônia  68027\n",
       "4 1997-04-01  Rondônia  84671\n",
       "5 1998-01-01  Rondônia  67600"
      ]
     },
     "execution_count": 32,
     "metadata": {},
     "output_type": "execute_result"
    }
   ],
   "source": [
    "df.head()"
   ]
  },
  {
   "cell_type": "markdown",
   "metadata": {},
   "source": [
    "### Análise:\n",
    "##### Após o processo de extração, manipulação e limpeza, os dados estão prontos para serem utilizados para ralizar análises."
   ]
  },
  {
   "cell_type": "markdown",
   "metadata": {},
   "source": [
    "Verificando um ranking entre os Estados do Brasil, referente a produção de leite industrializado."
   ]
  },
  {
   "cell_type": "code",
   "execution_count": 33,
   "metadata": {},
   "outputs": [],
   "source": [
    "ranking_estados = df.sort_values('DATA').groupby('UF').tail(1).sort_values('VALOR', ascending=False).reset_index(drop=True)"
   ]
  },
  {
   "cell_type": "code",
   "execution_count": 34,
   "metadata": {},
   "outputs": [
    {
     "data": {
      "text/html": [
       "<div>\n",
       "<style scoped>\n",
       "    .dataframe tbody tr th:only-of-type {\n",
       "        vertical-align: middle;\n",
       "    }\n",
       "\n",
       "    .dataframe tbody tr th {\n",
       "        vertical-align: top;\n",
       "    }\n",
       "\n",
       "    .dataframe thead th {\n",
       "        text-align: right;\n",
       "    }\n",
       "</style>\n",
       "<table border=\"1\" class=\"dataframe\">\n",
       "  <thead>\n",
       "    <tr style=\"text-align: right;\">\n",
       "      <th></th>\n",
       "      <th>DATA</th>\n",
       "      <th>UF</th>\n",
       "      <th>VALOR</th>\n",
       "    </tr>\n",
       "  </thead>\n",
       "  <tbody>\n",
       "    <tr>\n",
       "      <th>0</th>\n",
       "      <td>2024-02-01</td>\n",
       "      <td>Minas Gerais</td>\n",
       "      <td>1422828</td>\n",
       "    </tr>\n",
       "    <tr>\n",
       "      <th>1</th>\n",
       "      <td>2024-02-01</td>\n",
       "      <td>Paraná</td>\n",
       "      <td>878614</td>\n",
       "    </tr>\n",
       "    <tr>\n",
       "      <th>2</th>\n",
       "      <td>2024-02-01</td>\n",
       "      <td>Santa Catarina</td>\n",
       "      <td>744527</td>\n",
       "    </tr>\n",
       "    <tr>\n",
       "      <th>3</th>\n",
       "      <td>2024-02-01</td>\n",
       "      <td>Rio Grande do Sul</td>\n",
       "      <td>649321</td>\n",
       "    </tr>\n",
       "    <tr>\n",
       "      <th>4</th>\n",
       "      <td>2024-02-01</td>\n",
       "      <td>São Paulo</td>\n",
       "      <td>548447</td>\n",
       "    </tr>\n",
       "    <tr>\n",
       "      <th>5</th>\n",
       "      <td>2024-02-01</td>\n",
       "      <td>Goiás</td>\n",
       "      <td>510394</td>\n",
       "    </tr>\n",
       "    <tr>\n",
       "      <th>6</th>\n",
       "      <td>2024-02-01</td>\n",
       "      <td>Bahia</td>\n",
       "      <td>146762</td>\n",
       "    </tr>\n",
       "    <tr>\n",
       "      <th>7</th>\n",
       "      <td>2024-02-01</td>\n",
       "      <td>Rondônia</td>\n",
       "      <td>133801</td>\n",
       "    </tr>\n",
       "    <tr>\n",
       "      <th>8</th>\n",
       "      <td>2024-02-01</td>\n",
       "      <td>Sergipe</td>\n",
       "      <td>127212</td>\n",
       "    </tr>\n",
       "    <tr>\n",
       "      <th>9</th>\n",
       "      <td>2024-02-01</td>\n",
       "      <td>Rio de Janeiro</td>\n",
       "      <td>115777</td>\n",
       "    </tr>\n",
       "    <tr>\n",
       "      <th>10</th>\n",
       "      <td>2024-02-01</td>\n",
       "      <td>Ceará</td>\n",
       "      <td>102264</td>\n",
       "    </tr>\n",
       "    <tr>\n",
       "      <th>11</th>\n",
       "      <td>2024-02-01</td>\n",
       "      <td>Mato Grosso</td>\n",
       "      <td>88418</td>\n",
       "    </tr>\n",
       "    <tr>\n",
       "      <th>12</th>\n",
       "      <td>2024-02-01</td>\n",
       "      <td>Pernambuco</td>\n",
       "      <td>75414</td>\n",
       "    </tr>\n",
       "    <tr>\n",
       "      <th>13</th>\n",
       "      <td>2024-02-01</td>\n",
       "      <td>Espírito Santo</td>\n",
       "      <td>60720</td>\n",
       "    </tr>\n",
       "    <tr>\n",
       "      <th>14</th>\n",
       "      <td>2024-02-01</td>\n",
       "      <td>Pará</td>\n",
       "      <td>50271</td>\n",
       "    </tr>\n",
       "    <tr>\n",
       "      <th>15</th>\n",
       "      <td>2024-02-01</td>\n",
       "      <td>Alagoas</td>\n",
       "      <td>35472</td>\n",
       "    </tr>\n",
       "    <tr>\n",
       "      <th>16</th>\n",
       "      <td>2024-02-01</td>\n",
       "      <td>Tocantins</td>\n",
       "      <td>30565</td>\n",
       "    </tr>\n",
       "    <tr>\n",
       "      <th>17</th>\n",
       "      <td>2024-02-01</td>\n",
       "      <td>Paraíba</td>\n",
       "      <td>26752</td>\n",
       "    </tr>\n",
       "    <tr>\n",
       "      <th>18</th>\n",
       "      <td>2024-02-01</td>\n",
       "      <td>Mato Grosso do Sul</td>\n",
       "      <td>25829</td>\n",
       "    </tr>\n",
       "    <tr>\n",
       "      <th>19</th>\n",
       "      <td>2024-02-01</td>\n",
       "      <td>Rio Grande do Norte</td>\n",
       "      <td>25235</td>\n",
       "    </tr>\n",
       "    <tr>\n",
       "      <th>20</th>\n",
       "      <td>2024-02-01</td>\n",
       "      <td>Maranhão</td>\n",
       "      <td>12772</td>\n",
       "    </tr>\n",
       "    <tr>\n",
       "      <th>21</th>\n",
       "      <td>2024-02-01</td>\n",
       "      <td>Piauí</td>\n",
       "      <td>5116</td>\n",
       "    </tr>\n",
       "    <tr>\n",
       "      <th>22</th>\n",
       "      <td>2024-02-01</td>\n",
       "      <td>Acre</td>\n",
       "      <td>2562</td>\n",
       "    </tr>\n",
       "    <tr>\n",
       "      <th>23</th>\n",
       "      <td>2024-02-01</td>\n",
       "      <td>Amazonas</td>\n",
       "      <td>2517</td>\n",
       "    </tr>\n",
       "    <tr>\n",
       "      <th>24</th>\n",
       "      <td>2024-02-01</td>\n",
       "      <td>Roraima</td>\n",
       "      <td>0</td>\n",
       "    </tr>\n",
       "    <tr>\n",
       "      <th>25</th>\n",
       "      <td>2024-02-01</td>\n",
       "      <td>Distrito Federal</td>\n",
       "      <td>0</td>\n",
       "    </tr>\n",
       "  </tbody>\n",
       "</table>\n",
       "</div>"
      ],
      "text/plain": [
       "0        DATA                   UF    VALOR\n",
       "0  2024-02-01         Minas Gerais  1422828\n",
       "1  2024-02-01               Paraná   878614\n",
       "2  2024-02-01       Santa Catarina   744527\n",
       "3  2024-02-01    Rio Grande do Sul   649321\n",
       "4  2024-02-01            São Paulo   548447\n",
       "5  2024-02-01                Goiás   510394\n",
       "6  2024-02-01                Bahia   146762\n",
       "7  2024-02-01             Rondônia   133801\n",
       "8  2024-02-01              Sergipe   127212\n",
       "9  2024-02-01       Rio de Janeiro   115777\n",
       "10 2024-02-01                Ceará   102264\n",
       "11 2024-02-01          Mato Grosso    88418\n",
       "12 2024-02-01           Pernambuco    75414\n",
       "13 2024-02-01       Espírito Santo    60720\n",
       "14 2024-02-01                 Pará    50271\n",
       "15 2024-02-01              Alagoas    35472\n",
       "16 2024-02-01            Tocantins    30565\n",
       "17 2024-02-01              Paraíba    26752\n",
       "18 2024-02-01   Mato Grosso do Sul    25829\n",
       "19 2024-02-01  Rio Grande do Norte    25235\n",
       "20 2024-02-01             Maranhão    12772\n",
       "21 2024-02-01                Piauí     5116\n",
       "22 2024-02-01                 Acre     2562\n",
       "23 2024-02-01             Amazonas     2517\n",
       "24 2024-02-01              Roraima        0\n",
       "25 2024-02-01     Distrito Federal        0"
      ]
     },
     "execution_count": 34,
     "metadata": {},
     "output_type": "execute_result"
    }
   ],
   "source": [
    "ranking_estados.head(27)"
   ]
  }
 ],
 "metadata": {
  "kernelspec": {
   "display_name": "Python 3",
   "language": "python",
   "name": "python3"
  },
  "language_info": {
   "codemirror_mode": {
    "name": "ipython",
    "version": 3
   },
   "file_extension": ".py",
   "mimetype": "text/x-python",
   "name": "python",
   "nbconvert_exporter": "python",
   "pygments_lexer": "ipython3",
   "version": "3.12.4"
  }
 },
 "nbformat": 4,
 "nbformat_minor": 2
}
