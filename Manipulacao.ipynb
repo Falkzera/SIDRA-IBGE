{
 "cells": [
  {
   "cell_type": "markdown",
   "metadata": {},
   "source": [
    "# Extraindo dados do IBGE com sidrapy, e criando dashboards automáticos."
   ]
  },
  {
   "cell_type": "markdown",
   "metadata": {},
   "source": [
    "---"
   ]
  },
  {
   "cell_type": "markdown",
   "metadata": {},
   "source": [
    "### 1 - Importação das bibliotecas."
   ]
  },
  {
   "cell_type": "code",
   "execution_count": 1,
   "metadata": {},
   "outputs": [],
   "source": [
    "import pandas as pd\n",
    "import sidrapy"
   ]
  },
  {
   "cell_type": "markdown",
   "metadata": {},
   "source": [
    "### 2 - Extração a base de dados."
   ]
  },
  {
   "cell_type": "code",
   "execution_count": 2,
   "metadata": {},
   "outputs": [],
   "source": [
    "data = sidrapy.get_table(table_code='1086', \n",
    "                         territorial_level='3',\n",
    "                         ibge_territorial_code='all',\n",
    "                         variable='283',\n",
    "                         period='all')"
   ]
  },
  {
   "cell_type": "markdown",
   "metadata": {},
   "source": [
    "### 3 - Manipulação da base bruta."
   ]
  },
  {
   "cell_type": "markdown",
   "metadata": {},
   "source": [
    "Visualização inicial da BASE."
   ]
  },
  {
   "cell_type": "code",
   "execution_count": 3,
   "metadata": {},
   "outputs": [
    {
     "data": {
      "text/html": [
       "<div>\n",
       "<style scoped>\n",
       "    .dataframe tbody tr th:only-of-type {\n",
       "        vertical-align: middle;\n",
       "    }\n",
       "\n",
       "    .dataframe tbody tr th {\n",
       "        vertical-align: top;\n",
       "    }\n",
       "\n",
       "    .dataframe thead th {\n",
       "        text-align: right;\n",
       "    }\n",
       "</style>\n",
       "<table border=\"1\" class=\"dataframe\">\n",
       "  <thead>\n",
       "    <tr style=\"text-align: right;\">\n",
       "      <th></th>\n",
       "      <th>NC</th>\n",
       "      <th>NN</th>\n",
       "      <th>MC</th>\n",
       "      <th>MN</th>\n",
       "      <th>V</th>\n",
       "      <th>D1C</th>\n",
       "      <th>D1N</th>\n",
       "      <th>D2C</th>\n",
       "      <th>D2N</th>\n",
       "      <th>D3C</th>\n",
       "      <th>D3N</th>\n",
       "      <th>D4C</th>\n",
       "      <th>D4N</th>\n",
       "      <th>D5C</th>\n",
       "      <th>D5N</th>\n",
       "    </tr>\n",
       "  </thead>\n",
       "  <tbody>\n",
       "    <tr>\n",
       "      <th>0</th>\n",
       "      <td>Nível Territorial (Código)</td>\n",
       "      <td>Nível Territorial</td>\n",
       "      <td>Unidade de Medida (Código)</td>\n",
       "      <td>Unidade de Medida</td>\n",
       "      <td>Valor</td>\n",
       "      <td>Unidade da Federação (Código)</td>\n",
       "      <td>Unidade da Federação</td>\n",
       "      <td>Trimestre (Código)</td>\n",
       "      <td>Trimestre</td>\n",
       "      <td>Variável (Código)</td>\n",
       "      <td>Variável</td>\n",
       "      <td>Tipo de inspeção (Código)</td>\n",
       "      <td>Tipo de inspeção</td>\n",
       "      <td>Referência temporal (Código)</td>\n",
       "      <td>Referência temporal</td>\n",
       "    </tr>\n",
       "    <tr>\n",
       "      <th>1</th>\n",
       "      <td>3</td>\n",
       "      <td>Unidade da Federação</td>\n",
       "      <td>25</td>\n",
       "      <td>Mil litros</td>\n",
       "      <td>54392</td>\n",
       "      <td>11</td>\n",
       "      <td>Rondônia</td>\n",
       "      <td>199701</td>\n",
       "      <td>1º trimestre 1997</td>\n",
       "      <td>283</td>\n",
       "      <td>Quantidade de leite cru, resfriado ou não, ind...</td>\n",
       "      <td>118225</td>\n",
       "      <td>Total</td>\n",
       "      <td>115236</td>\n",
       "      <td>Total do trimestre</td>\n",
       "    </tr>\n",
       "    <tr>\n",
       "      <th>2</th>\n",
       "      <td>3</td>\n",
       "      <td>Unidade da Federação</td>\n",
       "      <td>25</td>\n",
       "      <td>Mil litros</td>\n",
       "      <td>54822</td>\n",
       "      <td>11</td>\n",
       "      <td>Rondônia</td>\n",
       "      <td>199702</td>\n",
       "      <td>2º trimestre 1997</td>\n",
       "      <td>283</td>\n",
       "      <td>Quantidade de leite cru, resfriado ou não, ind...</td>\n",
       "      <td>118225</td>\n",
       "      <td>Total</td>\n",
       "      <td>115236</td>\n",
       "      <td>Total do trimestre</td>\n",
       "    </tr>\n",
       "    <tr>\n",
       "      <th>3</th>\n",
       "      <td>3</td>\n",
       "      <td>Unidade da Federação</td>\n",
       "      <td>25</td>\n",
       "      <td>Mil litros</td>\n",
       "      <td>68027</td>\n",
       "      <td>11</td>\n",
       "      <td>Rondônia</td>\n",
       "      <td>199703</td>\n",
       "      <td>3º trimestre 1997</td>\n",
       "      <td>283</td>\n",
       "      <td>Quantidade de leite cru, resfriado ou não, ind...</td>\n",
       "      <td>118225</td>\n",
       "      <td>Total</td>\n",
       "      <td>115236</td>\n",
       "      <td>Total do trimestre</td>\n",
       "    </tr>\n",
       "    <tr>\n",
       "      <th>4</th>\n",
       "      <td>3</td>\n",
       "      <td>Unidade da Federação</td>\n",
       "      <td>25</td>\n",
       "      <td>Mil litros</td>\n",
       "      <td>84671</td>\n",
       "      <td>11</td>\n",
       "      <td>Rondônia</td>\n",
       "      <td>199704</td>\n",
       "      <td>4º trimestre 1997</td>\n",
       "      <td>283</td>\n",
       "      <td>Quantidade de leite cru, resfriado ou não, ind...</td>\n",
       "      <td>118225</td>\n",
       "      <td>Total</td>\n",
       "      <td>115236</td>\n",
       "      <td>Total do trimestre</td>\n",
       "    </tr>\n",
       "  </tbody>\n",
       "</table>\n",
       "</div>"
      ],
      "text/plain": [
       "                           NC                    NN  \\\n",
       "0  Nível Territorial (Código)     Nível Territorial   \n",
       "1                           3  Unidade da Federação   \n",
       "2                           3  Unidade da Federação   \n",
       "3                           3  Unidade da Federação   \n",
       "4                           3  Unidade da Federação   \n",
       "\n",
       "                           MC                 MN      V  \\\n",
       "0  Unidade de Medida (Código)  Unidade de Medida  Valor   \n",
       "1                          25         Mil litros  54392   \n",
       "2                          25         Mil litros  54822   \n",
       "3                          25         Mil litros  68027   \n",
       "4                          25         Mil litros  84671   \n",
       "\n",
       "                             D1C                   D1N                 D2C  \\\n",
       "0  Unidade da Federação (Código)  Unidade da Federação  Trimestre (Código)   \n",
       "1                             11              Rondônia              199701   \n",
       "2                             11              Rondônia              199702   \n",
       "3                             11              Rondônia              199703   \n",
       "4                             11              Rondônia              199704   \n",
       "\n",
       "                 D2N                D3C  \\\n",
       "0          Trimestre  Variável (Código)   \n",
       "1  1º trimestre 1997                283   \n",
       "2  2º trimestre 1997                283   \n",
       "3  3º trimestre 1997                283   \n",
       "4  4º trimestre 1997                283   \n",
       "\n",
       "                                                 D3N  \\\n",
       "0                                           Variável   \n",
       "1  Quantidade de leite cru, resfriado ou não, ind...   \n",
       "2  Quantidade de leite cru, resfriado ou não, ind...   \n",
       "3  Quantidade de leite cru, resfriado ou não, ind...   \n",
       "4  Quantidade de leite cru, resfriado ou não, ind...   \n",
       "\n",
       "                         D4C               D4N                           D5C  \\\n",
       "0  Tipo de inspeção (Código)  Tipo de inspeção  Referência temporal (Código)   \n",
       "1                     118225             Total                        115236   \n",
       "2                     118225             Total                        115236   \n",
       "3                     118225             Total                        115236   \n",
       "4                     118225             Total                        115236   \n",
       "\n",
       "                   D5N  \n",
       "0  Referência temporal  \n",
       "1   Total do trimestre  \n",
       "2   Total do trimestre  \n",
       "3   Total do trimestre  \n",
       "4   Total do trimestre  "
      ]
     },
     "execution_count": 3,
     "metadata": {},
     "output_type": "execute_result"
    }
   ],
   "source": [
    "data.head()"
   ]
  },
  {
   "cell_type": "markdown",
   "metadata": {},
   "source": [
    "Definição do cabeçalho como colula."
   ]
  },
  {
   "cell_type": "code",
   "execution_count": 4,
   "metadata": {},
   "outputs": [],
   "source": [
    "data.columns = data.iloc[0]"
   ]
  },
  {
   "cell_type": "markdown",
   "metadata": {},
   "source": [
    "Fatiando a base e selecionando as colunas necessárias."
   ]
  },
  {
   "cell_type": "code",
   "execution_count": 5,
   "metadata": {},
   "outputs": [],
   "source": [
    "df = data.iloc[1:,[7,6,4]].copy()"
   ]
  },
  {
   "cell_type": "markdown",
   "metadata": {},
   "source": [
    "Criação da coluna 'DATA', a partir da coluna 'Trimestre (Código)'"
   ]
  },
  {
   "cell_type": "code",
   "execution_count": 6,
   "metadata": {},
   "outputs": [],
   "source": [
    "df['DATA'] = pd.to_datetime(df['Trimestre (Código)'].str.slice(0,4) + '-' + df['Trimestre (Código)'].str.slice(4,6))"
   ]
  },
  {
   "cell_type": "markdown",
   "metadata": {},
   "source": [
    "Dropando a coluna 'Trimestre (Código)', pois a coluna 'DATA' já foi construída."
   ]
  },
  {
   "cell_type": "code",
   "execution_count": 7,
   "metadata": {},
   "outputs": [],
   "source": [
    "df = df.drop(columns='Trimestre (Código)')"
   ]
  },
  {
   "cell_type": "markdown",
   "metadata": {},
   "source": [
    "Renomeação das colunas, e alteração das posições."
   ]
  },
  {
   "cell_type": "code",
   "execution_count": 8,
   "metadata": {},
   "outputs": [],
   "source": [
    "df = df.rename(columns={'Unidade da Federação':'UF', 'Valor':'VALOR'})[['DATA','UF','VALOR']]"
   ]
  },
  {
   "cell_type": "markdown",
   "metadata": {},
   "source": [
    "Transformando a coluna de 'VALOR' em inteiro."
   ]
  },
  {
   "cell_type": "code",
   "execution_count": 10,
   "metadata": {},
   "outputs": [],
   "source": [
    "df['VALOR'] = pd.to_numeric(df['VALOR'], errors='coerce').fillna(0).astype(int)"
   ]
  },
  {
   "cell_type": "code",
   "execution_count": 11,
   "metadata": {},
   "outputs": [],
   "source": [
    "df['UF'] = df['UF'].astype('string')"
   ]
  },
  {
   "cell_type": "markdown",
   "metadata": {},
   "source": [
    "### 4 - Conferindo os dtypes e se existe valores nulos/ausentes."
   ]
  },
  {
   "cell_type": "markdown",
   "metadata": {},
   "source": [
    "Verificando se há valores nulos/ausentes nas colunas."
   ]
  },
  {
   "cell_type": "code",
   "execution_count": 12,
   "metadata": {},
   "outputs": [
    {
     "data": {
      "text/plain": [
       "0\n",
       "DATA     0\n",
       "UF       0\n",
       "VALOR    0\n",
       "dtype: int64"
      ]
     },
     "execution_count": 12,
     "metadata": {},
     "output_type": "execute_result"
    }
   ],
   "source": [
    "df.isnull().sum()"
   ]
  },
  {
   "cell_type": "markdown",
   "metadata": {},
   "source": [
    "Conferindo os tipos de dados."
   ]
  },
  {
   "cell_type": "code",
   "execution_count": 13,
   "metadata": {},
   "outputs": [
    {
     "data": {
      "text/plain": [
       "0\n",
       "DATA     datetime64[ns]\n",
       "UF       string[python]\n",
       "VALOR             int64\n",
       "dtype: object"
      ]
     },
     "execution_count": 13,
     "metadata": {},
     "output_type": "execute_result"
    }
   ],
   "source": [
    "df.dtypes"
   ]
  },
  {
   "cell_type": "markdown",
   "metadata": {},
   "source": [
    "Visualização dos dados filtrados e limpos."
   ]
  },
  {
   "cell_type": "code",
   "execution_count": 14,
   "metadata": {},
   "outputs": [
    {
     "data": {
      "text/html": [
       "<div>\n",
       "<style scoped>\n",
       "    .dataframe tbody tr th:only-of-type {\n",
       "        vertical-align: middle;\n",
       "    }\n",
       "\n",
       "    .dataframe tbody tr th {\n",
       "        vertical-align: top;\n",
       "    }\n",
       "\n",
       "    .dataframe thead th {\n",
       "        text-align: right;\n",
       "    }\n",
       "</style>\n",
       "<table border=\"1\" class=\"dataframe\">\n",
       "  <thead>\n",
       "    <tr style=\"text-align: right;\">\n",
       "      <th></th>\n",
       "      <th>DATA</th>\n",
       "      <th>UF</th>\n",
       "      <th>VALOR</th>\n",
       "    </tr>\n",
       "  </thead>\n",
       "  <tbody>\n",
       "    <tr>\n",
       "      <th>1</th>\n",
       "      <td>1997-01-01</td>\n",
       "      <td>Rondônia</td>\n",
       "      <td>54392</td>\n",
       "    </tr>\n",
       "    <tr>\n",
       "      <th>2</th>\n",
       "      <td>1997-02-01</td>\n",
       "      <td>Rondônia</td>\n",
       "      <td>54822</td>\n",
       "    </tr>\n",
       "    <tr>\n",
       "      <th>3</th>\n",
       "      <td>1997-03-01</td>\n",
       "      <td>Rondônia</td>\n",
       "      <td>68027</td>\n",
       "    </tr>\n",
       "    <tr>\n",
       "      <th>4</th>\n",
       "      <td>1997-04-01</td>\n",
       "      <td>Rondônia</td>\n",
       "      <td>84671</td>\n",
       "    </tr>\n",
       "    <tr>\n",
       "      <th>5</th>\n",
       "      <td>1998-01-01</td>\n",
       "      <td>Rondônia</td>\n",
       "      <td>67600</td>\n",
       "    </tr>\n",
       "  </tbody>\n",
       "</table>\n",
       "</div>"
      ],
      "text/plain": [
       "0       DATA        UF  VALOR\n",
       "1 1997-01-01  Rondônia  54392\n",
       "2 1997-02-01  Rondônia  54822\n",
       "3 1997-03-01  Rondônia  68027\n",
       "4 1997-04-01  Rondônia  84671\n",
       "5 1998-01-01  Rondônia  67600"
      ]
     },
     "execution_count": 14,
     "metadata": {},
     "output_type": "execute_result"
    }
   ],
   "source": [
    "df.head()"
   ]
  },
  {
   "cell_type": "markdown",
   "metadata": {},
   "source": [
    "### Conclusão: \n",
    "##### Após o processo de extração, manipulação e limpeza, os dados estão prontos para serem utilizados para a aplicação do dashboard."
   ]
  }
 ],
 "metadata": {
  "kernelspec": {
   "display_name": "Python 3",
   "language": "python",
   "name": "python3"
  },
  "language_info": {
   "codemirror_mode": {
    "name": "ipython",
    "version": 3
   },
   "file_extension": ".py",
   "mimetype": "text/x-python",
   "name": "python",
   "nbconvert_exporter": "python",
   "pygments_lexer": "ipython3",
   "version": "3.12.4"
  }
 },
 "nbformat": 4,
 "nbformat_minor": 2
}
